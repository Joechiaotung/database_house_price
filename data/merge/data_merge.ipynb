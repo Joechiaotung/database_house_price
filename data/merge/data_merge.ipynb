{
 "cells": [
  {
   "cell_type": "code",
   "execution_count": 1,
   "metadata": {},
   "outputs": [],
   "source": [
    "import os\n",
    "import re\n",
    "import pandas as pd\n",
    "import numpy as np"
   ]
  },
  {
   "cell_type": "code",
   "execution_count": 2,
   "metadata": {},
   "outputs": [
    {
     "name": "stdout",
     "output_type": "stream",
     "text": [
      "Empty DataFrame\n",
      "Columns: [city, 鄉鎮市區, 交易標的, 土地區段位置建物區段門牌, 土地移轉總面積平方公尺, 都市土地使用分區, 非都市土地使用分區, 非都市土地使用編定, 交易年月日, 交易筆棟數, 移轉層次, 總樓層數, 建物型態, 主要用途, 主要建材, 建築完成年月, 建物移轉總面積平方公尺, 建物現況格局-房, 建物現況格局-廳, 建物現況格局-衛, 建物現況格局-隔間, 有無管理組織, 總價元, 單價元平方公尺, 車位類別, 車位移轉總面積平方公尺, 車位總價元, 備註, 編號]\n",
      "Index: []\n",
      "\n",
      "[0 rows x 29 columns]\n"
     ]
    }
   ],
   "source": [
    "df = pd.read_csv('../original/107_1/A_lvr_land_A.csv')\n",
    "df.drop([0], inplace=True)\n",
    "col = list(df.columns)\n",
    "col.insert(0, 'city')\n",
    "merge_df = pd.DataFrame(columns=col)\n",
    "print(merge_df)"
   ]
  },
  {
   "cell_type": "code",
   "execution_count": 3,
   "metadata": {},
   "outputs": [],
   "source": [
    "city_dict = {\n",
    "    'A':'台北市', 'J':'新竹縣', 'S':'高雄縣', \n",
    "    'B':'台中市', 'K':'苗栗縣', 'T':'屏東縣', \n",
    "    'C':'基隆市', 'L':'台中縣', 'U':'花蓮縣', \n",
    "    'D':'台南市', 'M':'南投縣', 'V':'台東縣', \n",
    "    'E':'高雄市', 'N':'彰化縣', 'W':'金門縣', \n",
    "    'F':'台北縣', 'O':'新竹市', 'X':'澎湖縣', \n",
    "    'G':'宜蘭縣', 'P':'雲林縣', 'Y':'陽明山', \n",
    "    'H':'桃園縣', 'Q':'嘉義縣', 'Z':'連江縣', \n",
    "    'I':'嘉義市', 'R':'台南縣'}"
   ]
  },
  {
   "cell_type": "code",
   "execution_count": 4,
   "metadata": {},
   "outputs": [],
   "source": [
    "for foldername in os.listdir(\"../original\"):\n",
    "    if re.match(\"10*\", foldername):\n",
    "        for filename in os.listdir(\"../original/\" + foldername):\n",
    "            if re.match(\"[A-Z]_lvr_land_*\", filename):\n",
    "                tmp_df = pd.read_csv('../original/107_1/' + filename)\n",
    "                tmp_df.drop([0], inplace=True)\n",
    "#                 print(merge_df.shape, tmp_df.shape)\n",
    "                tmp_df['city'] = city_dict[filename[0]]\n",
    "                merge_df = merge_df.append(tmp_df, ignore_index=True)"
   ]
  },
  {
   "cell_type": "code",
   "execution_count": 5,
   "metadata": {},
   "outputs": [],
   "source": [
    "merge_df.to_csv('merge.csv', index=False, na_rep='NULL')"
   ]
  },
  {
   "cell_type": "code",
   "execution_count": 6,
   "metadata": {},
   "outputs": [
    {
     "name": "stdout",
     "output_type": "stream",
     "text": [
      "  city 鄉鎮市區          交易標的         土地區段位置建物區段門牌 土地移轉總面積平方公尺 都市土地使用分區 非都市土地使用分區  \\\n",
      "0  台北市  文山區     房地(土地+建物)   臺北市文山區景興路202巷1~30號         7.8        商       NaN   \n",
      "1  台北市  文山區  房地(土地+建物)+車位  臺北市文山區木柵路三段151~180號       16.37        商       NaN   \n",
      "2  台北市  文山區     房地(土地+建物)  臺北市文山區景福街54巷5弄1~30號       27.52        住       NaN   \n",
      "3  台北市  中正區     房地(土地+建物)      臺北市中正區廈門街61~90號        8.72        商       NaN   \n",
      "4  台北市  中正區     房地(土地+建物)      臺北市中正區廈門街61~90號         7.7        商       NaN   \n",
      "5  台北市  文山區            土地      興泰段二小段331~360地號        0.93       其他       NaN   \n",
      "6  台北市  萬華區     房地(土地+建物)      臺北市萬華區寶興街61~90號        37.5        住       NaN   \n",
      "7  台北市  大同區     房地(土地+建物)   臺北市大同區錦西街38巷31~60號       13.84        商       NaN   \n",
      "8  台北市  萬華區  房地(土地+建物)+車位    臺北市萬華區漢中街151~180號        2.72        商       NaN   \n",
      "9  台北市  萬華區  房地(土地+建物)+車位    臺北市萬華區西昌街121~150號       21.66        商       NaN   \n",
      "\n",
      "  非都市土地使用編定    交易年月日      交易筆棟數  ... 建物現況格局-衛 建物現況格局-隔間 有無管理組織       總價元  \\\n",
      "0       NaN  1060926  土地1建物1車位0  ...        2         有      有  10200000   \n",
      "1       NaN  1060804  土地1建物1車位1  ...        2         有      有  42400000   \n",
      "2       NaN  1061010  土地1建物1車位0  ...        2         有      有  20300000   \n",
      "3       NaN  1061004  土地1建物1車位0  ...        1         有      有  19000000   \n",
      "4       NaN  1061018  土地1建物1車位0  ...        1         有      有  15500000   \n",
      "5       NaN  1060914  土地1建物0車位0  ...        0         有      無     28721   \n",
      "6       NaN  1061102  土地1建物1車位0  ...        2         有      無  14000000   \n",
      "7       NaN  1061014  土地1建物1車位0  ...        2         有      有  22000000   \n",
      "8       NaN  1060814  土地1建物1車位1  ...        1         有      有   7900000   \n",
      "9       NaN  1061003  土地1建物1車位1  ...        2         有      有  33000000   \n",
      "\n",
      "  單價元平方公尺  車位類別 車位移轉總面積平方公尺    車位總價元              備註                   編號  \n",
      "0  151515   NaN         0.0        0             NaN  RPQOMLPKJIMFFAA37CA  \n",
      "1  188917  坡道平面       42.94  2000000  102.4.3預售屋買賣過戶  RPVOMLPKJIMFFAA87CA  \n",
      "2  163486   NaN         0.0        0             NaN  RPPNMLQKJIMFFAA27CA  \n",
      "3  238934   NaN         0.0        0             NaN  RPWNMLLLJIMFFAA57CA  \n",
      "4  220578   NaN         0.0        0             NaN  RPUNMLLJKIMFFAA27CA  \n",
      "5       0   NaN         0.0        0   包含公共設施保留地之交易。  RPRNMLLKKIMFFAA07CA  \n",
      "6   98675   NaN         0.0        0             NaN  RPUNMLNKJIMFFBA57CA  \n",
      "7  196745   NaN         0.0        0      含增建或未登記建物。  RPXOMLNKJIMFFBA97CA  \n",
      "8  170996  升降機械        12.6        0             NaN  RPXOMLPKJIMFFBA18CA  \n",
      "9  164720  升降機械         0.0        0             NaN  RPWNMLQKJIMFFBA08CA  \n",
      "\n",
      "[10 rows x 29 columns]\n"
     ]
    }
   ],
   "source": [
    "print(merge_df[:10])"
   ]
  },
  {
   "cell_type": "code",
   "execution_count": null,
   "metadata": {},
   "outputs": [],
   "source": []
  }
 ],
 "metadata": {
  "kernelspec": {
   "display_name": "Python 3",
   "language": "python",
   "name": "python3"
  },
  "language_info": {
   "codemirror_mode": {
    "name": "ipython",
    "version": 3
   },
   "file_extension": ".py",
   "mimetype": "text/x-python",
   "name": "python",
   "nbconvert_exporter": "python",
   "pygments_lexer": "ipython3",
   "version": "3.7.6"
  }
 },
 "nbformat": 4,
 "nbformat_minor": 4
}
