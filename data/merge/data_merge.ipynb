{
 "cells": [
  {
   "cell_type": "code",
   "execution_count": 1,
   "metadata": {},
   "outputs": [],
   "source": [
    "import os\n",
    "import re\n",
    "import pandas as pd\n",
    "import numpy as np"
   ]
  },
  {
   "cell_type": "code",
   "execution_count": 2,
   "metadata": {},
   "outputs": [
    {
     "name": "stdout",
     "output_type": "stream",
     "text": [
      "Empty DataFrame\n",
      "Columns: [鄉鎮市區, 交易標的, 土地區段位置建物區段門牌, 土地移轉總面積平方公尺, 都市土地使用分區, 非都市土地使用分區, 非都市土地使用編定, 交易年月日, 交易筆棟數, 移轉層次, 總樓層數, 建物型態, 主要用途, 主要建材, 建築完成年月, 建物移轉總面積平方公尺, 建物現況格局-房, 建物現況格局-廳, 建物現況格局-衛, 建物現況格局-隔間, 有無管理組織, 總價元, 單價元平方公尺, 車位類別, 車位移轉總面積平方公尺, 車位總價元, 備註, 編號]\n",
      "Index: []\n",
      "\n",
      "[0 rows x 28 columns]\n"
     ]
    }
   ],
   "source": [
    "df = pd.read_csv('../original/107_1/A_lvr_land_A.csv')\n",
    "df.drop([0], inplace=True)\n",
    "merge_df = pd.DataFrame(columns=df.columns)\n",
    "print(merge_df)"
   ]
  },
  {
   "cell_type": "code",
   "execution_count": 3,
   "metadata": {},
   "outputs": [],
   "source": [
    "for foldername in os.listdir(\"../original\"):\n",
    "    if re.match(\"10*\", foldername):\n",
    "        for filename in os.listdir(\"../original/\" + foldername):\n",
    "            if re.match(\"[A-Z]_lvr_land_*\", filename):\n",
    "                tmp_df = pd.read_csv('../original/107_1/' + filename)\n",
    "                tmp_df.drop([0], inplace=True)\n",
    "#                 print(merge_df.shape, tmp_df.shape)\n",
    "                merge_df = merge_df.append(tmp_df, ignore_index=True)"
   ]
  },
  {
   "cell_type": "code",
   "execution_count": 4,
   "metadata": {},
   "outputs": [],
   "source": [
    "merge_df.to_csv('merge.csv', index=False, na_rep='NULL')"
   ]
  },
  {
   "cell_type": "code",
   "execution_count": null,
   "metadata": {},
   "outputs": [],
   "source": []
  }
 ],
 "metadata": {
  "kernelspec": {
   "display_name": "Python 3",
   "language": "python",
   "name": "python3"
  },
  "language_info": {
   "codemirror_mode": {
    "name": "ipython",
    "version": 3
   },
   "file_extension": ".py",
   "mimetype": "text/x-python",
   "name": "python",
   "nbconvert_exporter": "python",
   "pygments_lexer": "ipython3",
   "version": "3.7.6"
  }
 },
 "nbformat": 4,
 "nbformat_minor": 4
}
